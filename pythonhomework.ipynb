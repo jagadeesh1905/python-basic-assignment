{
 "cells": [
  {
   "cell_type": "code",
   "execution_count": 1,
   "id": "b1c9ed23",
   "metadata": {},
   "outputs": [],
   "source": [
    "#question 1"
   ]
  },
  {
   "cell_type": "code",
   "execution_count": 2,
   "id": "0c6671c9",
   "metadata": {},
   "outputs": [
    {
     "name": "stdout",
     "output_type": "stream",
     "text": [
      "23\n",
      "['Hey', 'i', 'am', 'from', 'New', 'Delhi']\n"
     ]
    },
    {
     "data": {
      "text/plain": [
       "list"
      ]
     },
     "execution_count": 2,
     "metadata": {},
     "output_type": "execute_result"
    }
   ],
   "source": [
    "s=\"Hey i am from New Delhi\"\n",
    "print(len(s))\n",
    "li=s.split(\" \")\n",
    "print(li)\n",
    "type(li)"
   ]
  },
  {
   "cell_type": "code",
   "execution_count": 3,
   "id": "41a66d93",
   "metadata": {},
   "outputs": [],
   "source": [
    "#question 2"
   ]
  },
  {
   "cell_type": "code",
   "execution_count": 4,
   "id": "d3379ab6",
   "metadata": {},
   "outputs": [
    {
     "name": "stdout",
     "output_type": "stream",
     "text": [
      "Name is rahul\n",
      "Rame Is Rahul\n",
      "NAME IS RAHUL\n"
     ]
    }
   ],
   "source": [
    "s=\"name is rahul\"\n",
    "x=s.capitalize()\n",
    "print(x)\n",
    "y=s.replace(\"n\",\"r\").title()\n",
    "print(y)\n",
    "z=s.upper()\n",
    "print(z)"
   ]
  },
  {
   "cell_type": "code",
   "execution_count": 5,
   "id": "bd0b9edc",
   "metadata": {},
   "outputs": [],
   "source": [
    "#question 3"
   ]
  },
  {
   "cell_type": "code",
   "execution_count": 6,
   "id": "3be0dfca",
   "metadata": {},
   "outputs": [
    {
     "name": "stdout",
     "output_type": "stream",
     "text": [
      "enter the diameter:6\n",
      "circumference is: 18.84\n",
      "area is: 28.259999999999998\n"
     ]
    }
   ],
   "source": [
    "#d= diameter , r= radius , c= circumference ,a= area\n",
    "d=int(input(\"enter the diameter:\"))\n",
    "r=d/2\n",
    "c=2*3.14*r\n",
    "print(\"circumference is:\",c)\n",
    "a=3.14*r*r\n",
    "print(\"area is:\",a)"
   ]
  },
  {
   "cell_type": "code",
   "execution_count": 7,
   "id": "4b627272",
   "metadata": {},
   "outputs": [],
   "source": [
    "#question 4"
   ]
  },
  {
   "cell_type": "code",
   "execution_count": 8,
   "id": "fb00b563",
   "metadata": {},
   "outputs": [
    {
     "name": "stdout",
     "output_type": "stream",
     "text": [
      "enter the length:4\n",
      "enter the breadth:5\n",
      "area: 20\n",
      "perimeter: 18\n"
     ]
    }
   ],
   "source": [
    "#l= length, b= breadth , a= area ,p = perimter\n",
    "l=int(input(\"enter the length:\"))\n",
    "b=int(input(\"enter the breadth:\"))\n",
    "a=l*b\n",
    "p=2*(l+b)\n",
    "print(\"area:\",a)\n",
    "print(\"perimeter:\",p)"
   ]
  },
  {
   "cell_type": "code",
   "execution_count": 9,
   "id": "dbef8a50",
   "metadata": {},
   "outputs": [],
   "source": [
    "#question 5"
   ]
  },
  {
   "cell_type": "code",
   "execution_count": 10,
   "id": "703ea91a",
   "metadata": {},
   "outputs": [
    {
     "name": "stdout",
     "output_type": "stream",
     "text": [
      "enter a:1\n",
      "enter b:4\n",
      "enter c:2\n",
      "roots are:\n",
      "(-3.414213562373095+0j)\n",
      "(-0.5857864376269049+0j)\n"
     ]
    }
   ],
   "source": [
    "# ax^2+bx+c\n",
    "import cmath\n",
    "a=int(input(\"enter a:\"))\n",
    "b=int(input(\"enter b:\"))\n",
    "c=int(input(\"enter c:\"))\n",
    "#dis= discriminant\n",
    "dis=(b**2) - (4*a*c)\n",
    "#two roots\n",
    "root1 =(-b-cmath.sqrt(dis))/(2*a)\n",
    "root2 =(-b+cmath.sqrt(dis))/(2*a)\n",
    "print(\"roots are:\")\n",
    "print(root1)\n",
    "print(root2)"
   ]
  },
  {
   "cell_type": "code",
   "execution_count": 11,
   "id": "76e7024d",
   "metadata": {},
   "outputs": [],
   "source": [
    "#question 6"
   ]
  },
  {
   "cell_type": "code",
   "execution_count": 12,
   "id": "e31f7de1",
   "metadata": {},
   "outputs": [
    {
     "name": "stdout",
     "output_type": "stream",
     "text": [
      "enter the radius:5\n",
      "volume: 523.3333333333334\n"
     ]
    }
   ],
   "source": [
    "#radius =r , volume = v\n",
    "r=float(input(\"enter the radius:\"))\n",
    "v=(4/3)*3.14*r*r*r\n",
    "print(\"volume:\", v)"
   ]
  },
  {
   "cell_type": "code",
   "execution_count": 13,
   "id": "c4c4475b",
   "metadata": {},
   "outputs": [],
   "source": [
    "#question 7"
   ]
  },
  {
   "cell_type": "code",
   "execution_count": 14,
   "id": "3b7bdf7c",
   "metadata": {},
   "outputs": [
    {
     "name": "stdout",
     "output_type": "stream",
     "text": [
      "enter the number:5467\n",
      "count of digits is: 4\n"
     ]
    }
   ],
   "source": [
    "n= float(input(\"enter the number:\"))\n",
    "count=0\n",
    "while(n>0):\n",
    "    count= count+1\n",
    "    n=n//10\n",
    "print(\"count of digits is:\",count)"
   ]
  },
  {
   "cell_type": "code",
   "execution_count": 15,
   "id": "704ad5c8",
   "metadata": {},
   "outputs": [],
   "source": [
    "#question 8"
   ]
  },
  {
   "cell_type": "code",
   "execution_count": 16,
   "id": "03fee206",
   "metadata": {},
   "outputs": [
    {
     "name": "stdout",
     "output_type": "stream",
     "text": [
      "enter the string:thank you\n"
     ]
    },
    {
     "data": {
      "text/plain": [
       "'THANK YOU'"
      ]
     },
     "execution_count": 16,
     "metadata": {},
     "output_type": "execute_result"
    }
   ],
   "source": [
    "s=input(\"enter the string:\")\n",
    "s.upper()"
   ]
  },
  {
   "cell_type": "code",
   "execution_count": 17,
   "id": "5782e14c",
   "metadata": {},
   "outputs": [],
   "source": [
    "#question 9"
   ]
  },
  {
   "cell_type": "code",
   "execution_count": 19,
   "id": "a03acc8e",
   "metadata": {},
   "outputs": [
    {
     "name": "stdout",
     "output_type": "stream",
     "text": [
      "enter the string:hello\n",
      "enter the number:2\n",
      "enter the character:j\n",
      "output is: hejlo\n"
     ]
    }
   ],
   "source": [
    "s=input(\"enter the string:\")\n",
    "n=int(input(\"enter the number:\"))\n",
    "c=input(\"enter the character:\")\n",
    "str=s[0:n] + c + s[n+1:]\n",
    "print(\"output is:\", str)"
   ]
  },
  {
   "cell_type": "code",
   "execution_count": 20,
   "id": "3e66fc25",
   "metadata": {},
   "outputs": [],
   "source": [
    "#question 10"
   ]
  },
  {
   "cell_type": "code",
   "execution_count": 21,
   "id": "5d512349",
   "metadata": {},
   "outputs": [
    {
     "name": "stdout",
     "output_type": "stream",
     "text": [
      "enter the string:thank you\n",
      "output is: uoy knaht\n"
     ]
    }
   ],
   "source": [
    "s= input(\"enter the string:\")\n",
    "output=s[::-1]\n",
    "print(\"output is:\",output)"
   ]
  },
  {
   "cell_type": "code",
   "execution_count": null,
   "id": "5a374ce1",
   "metadata": {},
   "outputs": [],
   "source": []
  }
 ],
 "metadata": {
  "kernelspec": {
   "display_name": "Python 3",
   "language": "python",
   "name": "python3"
  },
  "language_info": {
   "codemirror_mode": {
    "name": "ipython",
    "version": 3
   },
   "file_extension": ".py",
   "mimetype": "text/x-python",
   "name": "python",
   "nbconvert_exporter": "python",
   "pygments_lexer": "ipython3",
   "version": "3.9.5"
  }
 },
 "nbformat": 4,
 "nbformat_minor": 5
}
